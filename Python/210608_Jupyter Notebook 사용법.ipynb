{
 "cells": [
  {
   "cell_type": "markdown",
   "id": "653ccb27",
   "metadata": {},
   "source": [
    "# 파이썬 파일 저장 위치 확인 방법"
   ]
  },
  {
   "cell_type": "code",
   "execution_count": 2,
   "id": "acada822",
   "metadata": {},
   "outputs": [
    {
     "data": {
      "text/plain": [
       "'C:\\\\Users\\\\kyung\\\\nano-python'"
      ]
     },
     "execution_count": 2,
     "metadata": {},
     "output_type": "execute_result"
    }
   ],
   "source": [
    "%pwd"
   ]
  },
  {
   "cell_type": "markdown",
   "id": "ba00528f",
   "metadata": {},
   "source": [
    "# 기본 단축키\n",
    "\n",
    "## 편집모드\n",
    "* shift + enter 키를 누르면 셀이 실행되고 다음 셀로 이동됨\n",
    "* ctrl + enter 키를 누르면 셀이 실행됨\n",
    "* 실행모드 => 편집모드로 갈때는 enter키 입력\n",
    "\n",
    "## 실행모드\n",
    "* a키를 누르면 위에 셀이 추가됨\n",
    "* b키를 누르면 아래에 셀이 추가됨\n",
    "* dd키를 누르면 셀이 삭제됨\n",
    "* m키를 누르면 문서 셀로 변경됨\n",
    "* y키를 누르면 코드 셀로 변경됨"
   ]
  },
  {
   "cell_type": "markdown",
   "id": "3d343209",
   "metadata": {},
   "source": [
    "# 파이썬 기초 따라해보기"
   ]
  },
  {
   "cell_type": "code",
   "execution_count": 8,
   "id": "a5754a19",
   "metadata": {},
   "outputs": [
    {
     "data": {
      "text/plain": [
       "1"
      ]
     },
     "execution_count": 8,
     "metadata": {},
     "output_type": "execute_result"
    }
   ],
   "source": [
    "1"
   ]
  },
  {
   "cell_type": "code",
   "execution_count": 9,
   "id": "f614bb31",
   "metadata": {},
   "outputs": [
    {
     "data": {
      "text/plain": [
       "3"
      ]
     },
     "execution_count": 9,
     "metadata": {},
     "output_type": "execute_result"
    }
   ],
   "source": [
    "1 + 2"
   ]
  },
  {
   "cell_type": "code",
   "execution_count": 10,
   "id": "816386f2",
   "metadata": {},
   "outputs": [
    {
     "data": {
      "text/plain": [
       "'ab'"
      ]
     },
     "execution_count": 10,
     "metadata": {},
     "output_type": "execute_result"
    }
   ],
   "source": [
    "\"a\" + \"b\""
   ]
  },
  {
   "cell_type": "code",
   "execution_count": 11,
   "id": "8f56e618",
   "metadata": {},
   "outputs": [
    {
     "data": {
      "text/plain": [
       "'Hello World!'"
      ]
     },
     "execution_count": 11,
     "metadata": {},
     "output_type": "execute_result"
    }
   ],
   "source": [
    "\"Hello World!\""
   ]
  },
  {
   "cell_type": "code",
   "execution_count": 14,
   "id": "f33af3be",
   "metadata": {},
   "outputs": [
    {
     "name": "stdout",
     "output_type": "stream",
     "text": [
      " C 드라이브의 볼륨에는 이름이 없습니다.\n",
      " 볼륨 일련 번호: 6E14-0431\n",
      "\n",
      " C:\\Users\\kyung\\nano-python 디렉터리\n",
      "\n",
      "2021-06-08  오후 03:05    <DIR>          .\n",
      "2021-06-08  오후 03:05    <DIR>          ..\n",
      "2021-06-08  오후 02:30    <DIR>          .ipynb_checkpoints\n",
      "2021-06-08  오후 02:51            16,900 0101-python-for-eda-input.ipynb\n",
      "2021-06-08  오후 03:05             3,916 주피터 노트북 사용법.ipynb\n",
      "               2개 파일              20,816 바이트\n",
      "               3개 디렉터리  39,647,936,512 바이트 남음\n"
     ]
    }
   ],
   "source": [
    "%ls"
   ]
  }
 ],
 "metadata": {
  "kernelspec": {
   "display_name": "Python 3",
   "language": "python",
   "name": "python3"
  },
  "language_info": {
   "codemirror_mode": {
    "name": "ipython",
    "version": 3
   },
   "file_extension": ".py",
   "mimetype": "text/x-python",
   "name": "python",
   "nbconvert_exporter": "python",
   "pygments_lexer": "ipython3",
   "version": "3.8.8"
  },
  "toc": {
   "base_numbering": 1,
   "nav_menu": {},
   "number_sections": true,
   "sideBar": true,
   "skip_h1_title": false,
   "title_cell": "Table of Contents",
   "title_sidebar": "Contents",
   "toc_cell": false,
   "toc_position": {},
   "toc_section_display": true,
   "toc_window_display": false
  }
 },
 "nbformat": 4,
 "nbformat_minor": 5
}
